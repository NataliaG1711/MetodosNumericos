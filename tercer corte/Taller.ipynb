{
 "cells": [
  {
   "metadata": {
    "ExecuteTime": {
     "end_time": "2025-05-25T17:01:20.243451Z",
     "start_time": "2025-05-25T17:01:19.282524Z"
    }
   },
   "cell_type": "code",
   "source": [
    "import numpy as np\n",
    "from matplotlib import pyplot as plt"
   ],
   "id": "e57fde9192a2812e",
   "outputs": [],
   "execution_count": 6
  },
  {
   "metadata": {},
   "cell_type": "markdown",
   "source": "# Taller 3 Métodos númericos - Natalia Giraldo, Valerie Olave",
   "id": "b8b0208e6bbdc1f7"
  },
  {
   "metadata": {},
   "cell_type": "markdown",
   "source": "## Punto 1",
   "id": "bc5c4bbb58447b0c"
  },
  {
   "metadata": {},
   "cell_type": "markdown",
   "source": "Se nos presenta una tabla con los siguientes datos:",
   "id": "922d0cf60ae3d138"
  },
  {
   "cell_type": "code",
   "id": "initial_id",
   "metadata": {
    "collapsed": true,
    "ExecuteTime": {
     "end_time": "2025-05-25T17:02:58.417630Z",
     "start_time": "2025-05-25T17:02:58.406778Z"
    }
   },
   "source": [
    "mes = np.array([1,2,3,4,5,6,7,8,9,10,11,12])\n",
    "ventas = np.array([15,18.2,17,19.5,21,23,22.5,24,25,27.5,28,30])"
   ],
   "outputs": [],
   "execution_count": 9
  },
  {
   "metadata": {},
   "cell_type": "markdown",
   "source": "### A.  Realice el gráfico de dispersión y la respectiva gráfica de la regresión lineal",
   "id": "a69ea643f114aaf2"
  },
  {
   "metadata": {},
   "cell_type": "markdown",
   "source": "Para realizar esto, primero necesitamos saber cual es la regresión lineal que más se ajusta a nuestros datos. Para eso definimos las funciones de min_cuad y min_cuad_parabola",
   "id": "99e87d8b6580e812"
  },
  {
   "metadata": {
    "ExecuteTime": {
     "end_time": "2025-05-25T16:23:58.040717Z",
     "start_time": "2025-05-25T16:23:58.032600Z"
    }
   },
   "cell_type": "code",
   "source": [
    "def min_cuad(x, y):\n",
    "    sumXY = 0\n",
    "    sumXX = 0\n",
    "    sumX = 0\n",
    "    sumY = 0\n",
    "    n = len(x)\n",
    "    for i in range(len(x)):\n",
    "        sumXY += x[i] * y[i]\n",
    "        sumXX += x[i] ** 2\n",
    "        sumX += x[i]\n",
    "        sumY += y[i]\n",
    "\n",
    "    A = np.array([[n, sumX], [sumX, sumXX]])\n",
    "    B = np.array([sumY, sumXY])\n",
    "    Ainv = np.linalg.inv(A)\n",
    "    S = np.dot(Ainv,B)\n",
    "    #print('A-1: ', Ainv)\n",
    "    #print()\n",
    "    #print('S: ', S)\n",
    "    a1 = (n * sumXY - sumX * sumY) / (n * sumXX - sumX ** 2)\n",
    "    a0 = (sumY - a1 * sumX) / n\n",
    "    return a0, a1"
   ],
   "id": "229380475d013163",
   "outputs": [],
   "execution_count": 5
  },
  {
   "metadata": {
    "ExecuteTime": {
     "end_time": "2025-05-25T17:02:05.200722Z",
     "start_time": "2025-05-25T17:02:05.195975Z"
    }
   },
   "cell_type": "code",
   "source": [
    "def Gauss(sumXX,sumXY,sumXXY,sumXXX,sumXXXX,sumX,sumY,n):\n",
    "    A = np.array([[n, sumX, sumXX], [sumX, sumXX,sumXXX],[sumXX,sumXXX,sumXXXX]])\n",
    "    B = np.array([sumY, sumXY, sumXXY])\n",
    "    Ainv = np.linalg.inv(A)\n",
    "    S = np.dot(Ainv,B)\n",
    "\n",
    "    return S\n",
    "\n",
    "def min_cuad_parabola(x, y):\n",
    "    sumXY = 0\n",
    "    sumXX = 0\n",
    "    sumXXY = 0\n",
    "    sumXXX = 0\n",
    "    sumXXXX = 0\n",
    "    sumX = 0\n",
    "    sumY = 0\n",
    "    n = len(x)\n",
    "    for i in range(len(x)):\n",
    "        sumXY += x[i] * y[i]\n",
    "        sumXX += x[i] ** 2\n",
    "        sumXXX += x[i]**3\n",
    "        sumXXXX += x[i]**4\n",
    "        sumXXY += (x[i]**2) * y[i]\n",
    "        sumX += x[i]\n",
    "        sumY += y[i]\n",
    "\n",
    "    a0,a1,a2 = Gauss(sumXX,sumXY,sumXXY,sumXXX,sumXXXX,sumX,sumY,n)\n",
    "    #print('A-1: ', Ainv)\n",
    "    #print()\n",
    "    #print('S: ', S)\n",
    "    return a0,a1,a2"
   ],
   "id": "751b2e3e16389798",
   "outputs": [],
   "execution_count": 8
  },
  {
   "metadata": {
    "ExecuteTime": {
     "end_time": "2025-05-25T17:43:11.721395Z",
     "start_time": "2025-05-25T17:43:11.708212Z"
    }
   },
   "cell_type": "code",
   "source": [
    "a0, a1,a2 = min_cuad_parabola(mes, ventas)\n",
    "print(a0, a1)\n",
    "y_est = a0 + a1*mes + a2 * mes**2\n",
    "\n",
    "media_y = np.mean(ventas)\n",
    "num = np.sum((y_est-media_y) ** 2)\n",
    "den = np.sum((ventas-media_y) ** 2)\n",
    "r = np.sqrt(num/den)\n",
    "print('Coeficiente correlación min_cuad_parabola =', r)"
   ],
   "id": "200ddae7341550cb",
   "outputs": [
    {
     "name": "stdout",
     "output_type": "stream",
     "text": [
      "14.470454545454329 1.2016233766234528\n",
      "Coeficiente correlación min_cuad_parabola = 0.986310548236185\n"
     ]
    }
   ],
   "execution_count": 20
  },
  {
   "metadata": {
    "ExecuteTime": {
     "end_time": "2025-05-25T17:43:15.008554Z",
     "start_time": "2025-05-25T17:43:14.968498Z"
    }
   },
   "cell_type": "code",
   "source": [
    "resol = 100\n",
    "xx = np.linspace(0, 20, resol)\n",
    "yy = a0 + a1*xx + a2 * xx**2\n",
    "\n",
    "fig,ax = plt.subplots()\n",
    "ax.plot(xx, yy, 'r')\n",
    "ax.plot(mes, ventas, 'o')\n",
    "plt.show()"
   ],
   "id": "daacc6a3d755e616",
   "outputs": [
    {
     "data": {
      "text/plain": [
       "<Figure size 640x480 with 1 Axes>"
      ],
      "image/png": "[encoded data removed]"
     },
     "metadata": {},
     "output_type": "display_data"
    }
   ],
   "execution_count": 21
  },
  {
   "metadata": {
    "ExecuteTime": {
     "end_time": "2025-05-25T17:43:38.820466Z",
     "start_time": "2025-05-25T17:43:38.816571Z"
    }
   },
   "cell_type": "code",
   "source": [
    "a0, a1 = min_cuad(mes, ventas)\n",
    "print(a0, a1)\n",
    "\n",
    "y_est = a0 + a1 * mes\n",
    "\n",
    "num = np.sum((y_est-media_y) ** 2)\n",
    "den = np.sum((ventas-media_y) ** 2)\n",
    "r = np.sqrt(num/den)\n",
    "print('coeficiente correlación min_cuad =', r)"
   ],
   "id": "666febe301d755c8",
   "outputs": [
    {
     "name": "stdout",
     "output_type": "stream",
     "text": [
      "14.315151515151499 1.2681818181818207\n",
      "coeficiente correlación min_cuad = 0.9862355368048499\n"
     ]
    }
   ],
   "execution_count": 23
  },
  {
   "metadata": {
    "ExecuteTime": {
     "end_time": "2025-05-25T17:03:40.138303Z",
     "start_time": "2025-05-25T17:03:39.981074Z"
    }
   },
   "cell_type": "code",
   "source": [
    "resol = 20\n",
    "xx = np.linspace(-1, 15, resol)\n",
    "yy = a0 + a1 * xx\n",
    "\n",
    "fig,ax = plt.subplots()\n",
    "ax.plot(xx, yy, 'r')\n",
    "ax.plot(mes, ventas, 'o')\n",
    "plt.show()"
   ],
   "id": "594f9a05d1d28a77",
   "outputs": [
    {
     "data": {
      "text/plain": [
       "<Figure size 640x480 with 1 Axes>"
      ],
      "image/png": "[encoded data removed]"
     },
     "metadata": {},
     "output_type": "display_data"
    }
   ],
   "execution_count": 11
  },
  {
   "metadata": {},
   "cell_type": "markdown",
   "source": "Según lo observado mediante el gráfico y el cálculo de coeficiente de correlación para ambas regresiones lineales, decimos que el que mejor se ajusta es min_cuad_parabola",
   "id": "4c995103aac86355"
  },
  {
   "metadata": {},
   "cell_type": "markdown",
   "source": "### B. Calcule las variaciones total, explicada e inexplicada",
   "id": "a9595ed47b2b11"
  },
  {
   "metadata": {
    "ExecuteTime": {
     "end_time": "2025-05-25T17:10:35.991336Z",
     "start_time": "2025-05-25T17:10:35.987663Z"
    }
   },
   "cell_type": "code",
   "source": [
    "media_y = np.mean(ventas)\n",
    "ve = sum((y_est - media_y) ** 2)\n",
    "print('ve =', ve)\n",
    "\n",
    "vi = sum((ventas - y_est) ** 2)\n",
    "print('vi =', vi)\n",
    "\n",
    "vt = ve + vi\n",
    "print('vt =', vt)"
   ],
   "id": "8008acef75e96043",
   "outputs": [
    {
     "name": "stdout",
     "output_type": "stream",
     "text": [
      "ve = 230.0197585747784\n",
      "vi = 6.429408091908085\n",
      "vt = 236.44916666668647\n"
     ]
    }
   ],
   "execution_count": 15
  },
  {
   "metadata": {},
   "cell_type": "markdown",
   "source": "Ni idea de que es eso.",
   "id": "bef0eef06b5fbc09"
  },
  {
   "metadata": {},
   "cell_type": "markdown",
   "source": "### C. Calcule el coeficiente de correlación",
   "id": "a6352bb967282861"
  },
  {
   "metadata": {
    "ExecuteTime": {
     "end_time": "2025-05-25T17:14:01.719468Z",
     "start_time": "2025-05-25T17:14:01.708529Z"
    }
   },
   "cell_type": "code",
   "source": [
    "num = np.sum((y_est-media_y) ** 2)\n",
    "den = np.sum((ventas-media_y) ** 2)\n",
    "r = np.sqrt(num/den)\n",
    "print('r =', r)"
   ],
   "id": "f53948aa56800065",
   "outputs": [
    {
     "name": "stdout",
     "output_type": "stream",
     "text": [
      "r = 0.986310548236185\n"
     ]
    }
   ],
   "execution_count": 17
  },
  {
   "metadata": {},
   "cell_type": "markdown",
   "source": "El coeficiente de correlación nos dice que tan relacionados están los datos dentro de un conjunto de datos. Con un valor de 0.9863 decimos que los datos presentados sobre las ventas mensuales están bastantes relacionados",
   "id": "24b4ef09393c35e9"
  },
  {
   "metadata": {},
   "cell_type": "markdown",
   "source": "### D.  Realice la predicción de las ventas cuando se tiene el mes 13",
   "id": "6b921303805ac395"
  },
  {
   "metadata": {
    "ExecuteTime": {
     "end_time": "2025-05-25T18:00:14.503431Z",
     "start_time": "2025-05-25T18:00:14.486408Z"
    }
   },
   "cell_type": "code",
   "source": [
    "x_pred = 13\n",
    "y_pred = a0 + a1 * x_pred\n",
    "print(a0, a1)\n",
    "print('y_pred =', y_pred)"
   ],
   "id": "710ef2395fe5d8c4",
   "outputs": [
    {
     "name": "stdout",
     "output_type": "stream",
     "text": [
      "14.315151515151499 1.2681818181818207\n",
      "y_pred = 30.80151515151517\n"
     ]
    }
   ],
   "execution_count": 24
  },
  {
   "metadata": {},
   "cell_type": "markdown",
   "source": "Como se observa, para el mes 13, el valor de las ventas será de 30.8",
   "id": "6907c01fda44ea69"
  },
  {
   "metadata": {
    "ExecuteTime": {
     "end_time": "2025-05-25T18:01:26.656261Z",
     "start_time": "2025-05-25T18:01:26.609639Z"
    }
   },
   "cell_type": "code",
   "source": [
    "x_dato = np.array([1,2,3,4,5,6,7,8,9,10,11,12,13])\n",
    "y_dato = np.array([15,18.2,17,19.5,21,23,22.5,24,25,27.5,28,30,y_pred])\n",
    "\n",
    "\n",
    "a0, a1 = min_cuad(x_dato, y_dato)\n",
    "\n",
    "y_est = a0 + a1 * x_dato\n",
    "\n",
    "media_y = np.mean(y_dato)\n",
    "\n",
    "num = np.sum((y_est-media_y) ** 2)\n",
    "den = np.sum((y_dato-media_y) ** 2)\n",
    "r = np.sqrt(num/den)\n",
    "print('r =', r)\n",
    "\n",
    "resol = 20\n",
    "xx = np.linspace(-1, 15, resol)\n",
    "yy = a0 + a1 * xx\n",
    "\n",
    "fig,ax = plt.subplots()\n",
    "ax.plot(xx, yy, 'r')\n",
    "ax.plot(x_dato, y_dato, 'o')\n",
    "plt.show()"
   ],
   "id": "81150fbe7e057214",
   "outputs": [
    {
     "name": "stdout",
     "output_type": "stream",
     "text": [
      "r = 0.9891372017430464\n"
     ]
    },
    {
     "data": {
      "text/plain": [
       "<Figure size 640x480 with 1 Axes>"
      ],
      "image/png": "[encoded data removed]"
     },
     "metadata": {},
     "output_type": "display_data"
    }
   ],
   "execution_count": 25
  },
  {
   "metadata": {},
   "cell_type": "markdown",
   "source": "Además, se aprecia como el coeficiente de correlación aumenta",
   "id": "718489dea09289c9"
  },
  {
   "metadata": {},
   "cell_type": "markdown",
   "source": "### E. usando el método de sumas de Riemann, calcular los ingresos anuales acumulados por concepto de ventas.",
   "id": "e939a499f8dacf27"
  },
  {
   "metadata": {
    "ExecuteTime": {
     "end_time": "2025-05-25T18:02:04.318023Z",
     "start_time": "2025-05-25T18:02:04.312730Z"
    }
   },
   "cell_type": "code",
   "source": [
    "def f(x):\n",
    "    return a0 + a1 * x\n",
    "\n",
    "n_rec = 12\n",
    "a=0\n",
    "b=12\n",
    "delta_x = (b-a)/n_rec\n",
    "x = np.linspace(a,b,n_rec+1)\n",
    "#print(x,delta_x)\n",
    "\n",
    "sum_izq = 0\n",
    "sum_der = 0\n",
    "sum_med = 0\n",
    "for i in range(len(x)-1):\n",
    "    sum_izq += f(x[i]) * delta_x\n",
    "    sum_der += f(x[i+1]) * delta_x\n",
    "    sum_med += f((x[i+1]+x[i])/2) * delta_x\n",
    "\n",
    "print('{:<30} {:<30} {:<30}'. format('Ext izq', 'medio', 'ext der'))\n",
    "print('{:<30} {:<30} {:<30}'. format(sum_izq,sum_med,sum_der))"
   ],
   "id": "c75b88a4301082ac",
   "outputs": [
    {
     "name": "stdout",
     "output_type": "stream",
     "text": [
      "Ext izq                        medio                          ext der                       \n",
      "255.4818181818181              263.09090909090907             270.7                         \n"
     ]
    }
   ],
   "execution_count": 26
  },
  {
   "metadata": {},
   "cell_type": "markdown",
   "source": "### F: Usando el método de integración Simpson 1/3, calcular los ingresos anuales acumulados (suavizados). Esto se logra integrando las ventas como función del tiempo.",
   "id": "d4f0c4c6708ac2ff"
  },
  {
   "metadata": {},
   "cell_type": "markdown",
   "source": "Para resolver esto, primero necesitamos el método de simpson 1/3, donde la función a integrar son las ventas estimadas obtenidas con anterioridad.",
   "id": "7a415cf046a9e443"
  },
  {
   "metadata": {},
   "cell_type": "code",
   "source": [
    "def f(x):\n",
    "    return a0 + a1 * x\n",
    "\n",
    "a = 1\n",
    "b = 13\n",
    "n = 13\n",
    "x = np.linspace(a, b, n+1)\n",
    "suma_par = 0\n",
    "suma_impar = 0\n",
    "\n",
    "for i in range(1,len(x)-1):\n",
    "    if i % 2 == 0:\n",
    "        suma_par +=f(x[i])\n",
    "    else:\n",
    "        suma_impar +=f(x[i])\n",
    "\n",
    "integral = (b-a) * (f(x[0]) + 4*suma_impar + 2*suma_par + f(x[n]))/(3*n)\n",
    "print('Integral =', integral)"
   ],
   "id": "84f04c95a9bf98bd",
   "outputs": [],
   "execution_count": null
  },
  {
   "metadata": {},
   "cell_type": "markdown",
   "source": "Vemos que el resultado usando la regla de simpson 1/3 (269) es similar a los ingresos anuales acumulados reales con un valor de  270.71, por lo que se puede decir que el método realiza una buena aproximación a los ingresos anuales acumulados",
   "id": "db45ff6483760a71"
  },
  {
   "metadata": {},
   "cell_type": "markdown",
   "source": "### G:  Teniendo presente los dos items anteriores ¿coinciden los ingresos por concepto de ventas usando ambos métodos?",
   "id": "644784024802001d"
  },
  {
   "metadata": {},
   "cell_type": "markdown",
   "source": "Calculando los ingresos anuales mediante ambos métodos (Suma de Riemman y regla de Simpson 1/3) podemos afirmar que si coinciden, sin embargo, la suma de Riemman fue más precisa en este caso, pues nos da el valor exacto de los ingresos anuales de 270.71, mientras que usando Simpson 1/3 nos da una buena aproximación de 269. Por lo que se puede afirmar que ambos métodos son válidos a pesar de tener distinta precisión",
   "id": "14f51a41ac53c968"
  },
  {
   "metadata": {},
   "cell_type": "markdown",
   "source": "## Punto 2",
   "id": "b45dbf3d2d0f3a4e"
  },
  {
   "metadata": {},
   "cell_type": "markdown",
   "source": "### A.  La función de interpolación que mejor se ajuste a los datos usando el método de Lagrange",
   "id": "8e91204c4bdfa2b4"
  },
  {
   "metadata": {},
   "cell_type": "markdown",
   "source": "La función de interpolación que mejor se ajusta a los datos son las ventas estimadas que fueron obtenidas con anterioridad",
   "id": "a545101907b7982f"
  },
  {
   "metadata": {},
   "cell_type": "markdown",
   "source": "### B. Realice la predicción de ingresos debido a las ventas en el mes 13, suponiendo que podemos extrapolar usando la función de Lagrange",
   "id": "a8e3999b6a88d058"
  },
  {
   "metadata": {},
   "cell_type": "code",
   "outputs": [],
   "execution_count": null,
   "source": [
    "def f(x):\n",
    "    return  a0 + a1 * x\n",
    "\n",
    "def Lag(a,b,n,f,x):\n",
    "    xi = np.linspace(a,b,n+1)\n",
    "    sum = 0\n",
    "    for i in range(n+1):\n",
    "        prod = 1\n",
    "        for j in range(n+1):\n",
    "            if j != i:\n",
    "                prod *= (x-xi[j])/(xi[i] - xi[j])\n",
    "        sum += prod*f(xi[i])\n",
    "    return sum\n",
    "\n",
    "x = 13\n",
    "InterpLag = Lag(1,13,13,f,x)\n",
    "error = abs(InterpLag - f(x))/(f(x))\n",
    "print('\\n')\n",
    "\n",
    "print('{:<20} {:<20} {:<20}'.format('f(x)', 'Lagrange', '%Error'))\n",
    "print('{:<20} {:<20} {:<20}'.format(f(x), InterpLag, error*100))"
   ],
   "id": "6272c23cdcfb8c45"
  },
  {
   "metadata": {},
   "cell_type": "markdown",
   "source": "Se realiza la predicción de ventas del mes 13 usando la función de Lagrange, de modo que la función de interpolación es la de las ventas estimadas, como fue explicado en el inciso anterior; Lo que hace la función de lagrange es que construye un polinomio que pasa por los puntos conocidos, y a partir de este punto, se extrapola para estimar el valor en el mes 13.",
   "id": "3df5e4250568ed9b"
  },
  {
   "metadata": {},
   "cell_type": "markdown",
   "source": "### C.  ¿La predicción del ingreso por ventas usando la interpolación de Lagrange difiere en gran medida con aquella predicción usando el método de mínimos cuadrados?",
   "id": "dd45bb52fd400e26"
  },
  {
   "metadata": {},
   "cell_type": "markdown",
   "source": "Las predicciones realizadas mediante interpolación de Lagrange y el método de mínimos cuadrados no difiere para nada, pues con ambos métodos la predicción de ventas para el mes 13 es de 30.8",
   "id": "d9432cddcb54a8cd"
  }
 ],
 "metadata": {
  "kernelspec": {
   "display_name": "Python 3",
   "language": "python",
   "name": "python3"
  },
  "language_info": {
   "codemirror_mode": {
    "name": "ipython",
    "version": 2
   },
   "file_extension": ".py",
   "mimetype": "text/x-python",
   "name": "python",
   "nbconvert_exporter": "python",
   "pygments_lexer": "ipython2",
   "version": "2.7.6"
  }
 },
 "nbformat": 4,
 "nbformat_minor": 5
}
