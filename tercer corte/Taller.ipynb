{
 "cells": [
  {
   "cell_type": "code",
   "execution_count": 16,
   "id": "e57fde9192a2812e",
   "metadata": {
    "ExecuteTime": {
     "end_time": "2025-05-26T23:40:45.266013Z",
     "start_time": "2025-05-26T23:40:45.262929Z"
    }
   },
   "outputs": [],
   "source": [
    "import numpy as np\n",
    "from matplotlib import pyplot as plt"
   ]
  },
  {
   "cell_type": "markdown",
   "id": "b8b0208e6bbdc1f7",
   "metadata": {},
   "source": [
    "# Taller 3 Métodos númericos - Natalia Giraldo, Valerie Olave"
   ]
  },
  {
   "cell_type": "markdown",
   "id": "3557ff8deb5198f3",
   "metadata": {},
   "source": [
    "## Introducción\n",
    "\n",
    "La regresión lineal es un método estadístico que se usa para mostrar la relación existente entre una variable dependiente y una o más variables independientes. Esto busca encontrar la mejor línea que se ajuste a los datos observados. Por otro lado, los mínimos cuadrados son una técnica usada para encontrar la mejor aproximación a un conjunto de datos mediante la minimización de la suma de los cuadrados de las diferencias entre los valores observados y los predichos.\n",
    "\n",
    "En este trabajo se desarrollará una serie de ejercicios que buscan profundizar los conceptos en regresión lineal y mínimos cuadrados, donde se trabajará con un conjunto de datos sobre las ventas realizadas durante un año, además de comparar las predicciones dadas con otros enfoques como la interpolación de Lagrange."
   ]
  },
  {
   "cell_type": "markdown",
   "id": "bc5c4bbb58447b0c",
   "metadata": {},
   "source": [
    "## Punto 1"
   ]
  },
  {
   "cell_type": "markdown",
   "id": "922d0cf60ae3d138",
   "metadata": {},
   "source": "Se nos presenta una tabla con los siguientes datos que corresponden a las ventas de una empresa en cada uno de los meses indicados:"
  },
  {
   "cell_type": "code",
   "execution_count": null,
   "id": "initial_id",
   "metadata": {
    "ExecuteTime": {
     "end_time": "2025-05-26T23:40:45.282778Z",
     "start_time": "2025-05-26T23:40:45.278928Z"
    },
    "collapsed": true
   },
   "outputs": [],
   "source": [
    "mes = np.array([1,2,3,4,5,6,7,8,9,10,11,12])\n",
    "ventas = np.array([15,18.2,17,19.5,21,23,22.5,24,25,27.5,28,30])"
   ]
  },
  {
   "cell_type": "markdown",
   "id": "a69ea643f114aaf2",
   "metadata": {},
   "source": [
    "### A.  Realice el gráfico de dispersión y la respectiva gráfica de la regresión lineal"
   ]
  },
  {
   "cell_type": "markdown",
   "id": "99e87d8b6580e812",
   "metadata": {},
   "source": "Para visualizar el gráfico de dispersión y la gráfica de regresión lineal de la relación entre los meses y las ventas realizadas en estos, primero se necesita determinar la regresión lineal que más se ajusta a los datos proporcionados. Para esto se define la función de min_cuad la cual calcula los coeficientes de una regresión lineal simple."
  },
  {
   "cell_type": "code",
   "execution_count": null,
   "id": "229380475d013163",
   "metadata": {
    "ExecuteTime": {
     "end_time": "2025-05-26T23:40:45.296934Z",
     "start_time": "2025-05-26T23:40:45.292905Z"
    }
   },
   "outputs": [],
   "source": [
    "def min_cuad(x, y):\n",
    "    sumXY = 0\n",
    "    sumXX = 0\n",
    "    sumX = 0\n",
    "    sumY = 0\n",
    "    n = len(x)\n",
    "    for i in range(len(x)):\n",
    "        sumXY += x[i] * y[i]\n",
    "        sumXX += x[i] ** 2\n",
    "        sumX += x[i]\n",
    "        sumY += y[i]\n",
    "\n",
    "    A = np.array([[n, sumX], [sumX, sumXX]])\n",
    "    B = np.array([sumY, sumXY])\n",
    "    Ainv = np.linalg.inv(A)\n",
    "    S = np.dot(Ainv,B)\n",
    "    #print('A-1: ', Ainv)\n",
    "    #print()\n",
    "    #print('S: ', S)\n",
    "    a1 = (n * sumXY - sumX * sumY) / (n * sumXX - sumX ** 2)\n",
    "    a0 = (sumY - a1 * sumX) / n\n",
    "    return a0, a1"
   ]
  },
  {
   "cell_type": "code",
   "execution_count": null,
   "id": "666febe301d755c8",
   "metadata": {
    "ExecuteTime": {
     "end_time": "2025-05-26T23:40:45.428313Z",
     "start_time": "2025-05-26T23:40:45.423422Z"
    }
   },
   "outputs": [
    {
     "name": "stdout",
     "output_type": "stream",
     "text": [
      "14.315151515151499 1.2681818181818207\n",
      "coeficiente correlación min_cuad = 0.9862355368048499\n"
     ]
    }
   ],
   "source": [
    "a0, a1 = min_cuad(mes, ventas)\n",
    "print(a0, a1)\n",
    "media_y = np.mean(ventas)\n",
    "y_est = a0 + a1 * mes\n",
    "\n",
    "num = np.sum((y_est-media_y) ** 2)\n",
    "den = np.sum((ventas-media_y) ** 2)\n",
    "r = np.sqrt(num/den)\n",
    "print('coeficiente correlación min_cuad =', r)"
   ]
  },
  {
   "cell_type": "code",
   "execution_count": null,
   "id": "594f9a05d1d28a77",
   "metadata": {
    "ExecuteTime": {
     "end_time": "2025-05-26T23:40:45.502706Z",
     "start_time": "2025-05-26T23:40:45.461662Z"
    }
   },
   "outputs": [
    {
     "data": {
      "image/png": "[encoded data removed]",
      "text/plain": [
       "<Figure size 640x480 with 1 Axes>"
      ]
     },
     "metadata": {},
     "output_type": "display_data"
    }
   ],
   "source": [
    "resol = 20\n",
    "xx = np.linspace(-1, 15, resol)\n",
    "yy = a0 + a1 * xx\n",
    "\n",
    "fig,ax = plt.subplots()\n",
    "ax.plot(xx, yy, 'r')\n",
    "ax.plot(mes, ventas, 'o')\n",
    "plt.show()"
   ]
  },
  {
   "cell_type": "markdown",
   "id": "4c995103aac86355",
   "metadata": {},
   "source": "En la gráfica obtenida se visualizan los datos dados y la línea de tendencia, donde según lo observado mediante el gráfico y el cálculo de coeficiente de correlación, se puede afirmar que la regresión lineal se ajusta de gran manera a los datos como se observa según su dispersión y la línea de tendencia."
  },
  {
   "cell_type": "markdown",
   "id": "a9595ed47b2b11",
   "metadata": {},
   "source": [
    "### B. Calcule las variaciones total, explicada e inexplicada"
   ]
  },
  {
   "cell_type": "markdown",
   "id": "ff8a30796213026d",
   "metadata": {},
   "source": "La variación total representa la suma total de los cuadrados de las diferencias entre cada valor observado y la media global, esta mide la dispersión  total de los datos alrededor de su media. La variación explicada calcula la diferencia entre los valores estimados y la media, esta indica que tan bien el modelo explica la variabilidad de los datos, y  la variación indexplicada calcula la diferencia entre los valores reales y los estimados, esta obtiene la variabilidad que no se puede explicar. A continuación se realiza el cálculo de las tres variaciones para nuestros valores de ventas."
  },
  {
   "cell_type": "code",
   "execution_count": null,
   "id": "8008acef75e96043",
   "metadata": {
    "ExecuteTime": {
     "end_time": "2025-05-26T23:40:45.517179Z",
     "start_time": "2025-05-26T23:40:45.513727Z"
    }
   },
   "outputs": [
    {
     "name": "stdout",
     "output_type": "stream",
     "text": [
      "ve = 229.98477272727362\n",
      "vi = 6.464393939393937\n",
      "vt = 236.44916666666757\n",
      "r2 = 0.9726605340567469\n"
     ]
    }
   ],
   "source": [
    "media_y = np.mean(ventas)\n",
    "ve = sum((y_est - media_y) ** 2)\n",
    "print('ve =', ve)\n",
    "\n",
    "vi = sum((ventas - y_est) ** 2)\n",
    "print('vi =', vi)\n",
    "\n",
    "vt = ve + vi\n",
    "print('vt =', vt)\n",
    "\n",
    "rsquare = ve/vt\n",
    "print('r2 =', rsquare)"
   ]
  },
  {
   "cell_type": "markdown",
   "id": "bef0eef06b5fbc09",
   "metadata": {},
   "source": "De la formula de la variación total se pueden despejar las variaciones explicadas e inexplicadas. Con estas variaciones podemos obtener el coeficiente de determinación, cuyo calculo es la variación explicada/variación total. Al realizar este cálculo nos da un coeficiente de determinación de 0.97, lo que indica que el modelo tiene un buen ajuste."
  },
  {
   "cell_type": "markdown",
   "id": "a6352bb967282861",
   "metadata": {},
   "source": [
    "### C. Calcule el coeficiente de correlación"
   ]
  },
  {
   "cell_type": "code",
   "execution_count": null,
   "id": "f53948aa56800065",
   "metadata": {
    "ExecuteTime": {
     "end_time": "2025-05-26T23:40:45.560748Z",
     "start_time": "2025-05-26T23:40:45.552695Z"
    }
   },
   "outputs": [
    {
     "name": "stdout",
     "output_type": "stream",
     "text": [
      "r = 0.9862355368048499\n"
     ]
    }
   ],
   "source": [
    "num = np.sum((y_est-media_y) ** 2)\n",
    "den = np.sum((ventas-media_y) ** 2)\n",
    "r = np.sqrt(num/den)\n",
    "print('r =', r)"
   ]
  },
  {
   "cell_type": "markdown",
   "id": "24b4ef09393c35e9",
   "metadata": {},
   "source": "El coeficiente de correlación demuestra que tan relacionados están los datos que se encuentran dentro de un conjunto de datos. En este caso, con una correlación de 0.9863 demuestra que existe una muy buena relación entre los meses y las ventas dadas en la tabla."
  },
  {
   "cell_type": "markdown",
   "id": "6b921303805ac395",
   "metadata": {},
   "source": [
    "### D.  Realice la predicción de las ventas cuando se tiene el mes 13"
   ]
  },
  {
   "cell_type": "markdown",
   "id": "c557a7d2b5bc95cf",
   "metadata": {},
   "source": [
    "Para predecir las ventas que se obtendrán en el mes 13 se calcula con la formula y = a0+a1*x_pred, donde x_pred es el valor que queremos predecir; en este caso, el valor de ventas para el mes trece."
   ]
  },
  {
   "cell_type": "code",
   "execution_count": null,
   "id": "710ef2395fe5d8c4",
   "metadata": {
    "ExecuteTime": {
     "end_time": "2025-05-26T23:40:45.595523Z",
     "start_time": "2025-05-26T23:40:45.591576Z"
    }
   },
   "outputs": [
    {
     "name": "stdout",
     "output_type": "stream",
     "text": [
      "14.315151515151499 1.2681818181818207\n",
      "y_pred = 30.80151515151517\n"
     ]
    }
   ],
   "source": [
    "x_pred = 13\n",
    "y_pred = a0 + a1 * x_pred\n",
    "print(a0, a1)\n",
    "print('y_pred =', y_pred)"
   ]
  },
  {
   "cell_type": "markdown",
   "id": "6907c01fda44ea69",
   "metadata": {},
   "source": "Como se observa, la predicción calculada con la fórmula mencionada indica que para el mes 13, el valor de las ventas será de 30.8"
  },
  {
   "cell_type": "code",
   "execution_count": null,
   "id": "81150fbe7e057214",
   "metadata": {
    "ExecuteTime": {
     "end_time": "2025-05-26T23:40:45.676195Z",
     "start_time": "2025-05-26T23:40:45.624994Z"
    }
   },
   "outputs": [
    {
     "name": "stdout",
     "output_type": "stream",
     "text": [
      "r = 0.9891372017430464\n"
     ]
    },
    {
     "data": {
      "image/png": "[encoded data removed]",
      "text/plain": [
       "<Figure size 640x480 with 1 Axes>"
      ]
     },
     "metadata": {},
     "output_type": "display_data"
    }
   ],
   "source": [
    "x_dato = np.array([1,2,3,4,5,6,7,8,9,10,11,12,13])\n",
    "y_dato = np.array([15,18.2,17,19.5,21,23,22.5,24,25,27.5,28,30,y_pred])\n",
    "\n",
    "\n",
    "a0, a1 = min_cuad(x_dato, y_dato)\n",
    "\n",
    "y_est = a0 + a1 * x_dato\n",
    "\n",
    "media_y = np.mean(y_dato)\n",
    "\n",
    "num = np.sum((y_est-media_y) ** 2)\n",
    "den = np.sum((y_dato-media_y) ** 2)\n",
    "r = np.sqrt(num/den)\n",
    "print('r =', r)\n",
    "\n",
    "resol = 20\n",
    "xx = np.linspace(-1, 15, resol)\n",
    "yy = a0 + a1 * xx\n",
    "\n",
    "fig,ax = plt.subplots()\n",
    "ax.plot(xx, yy, 'r')\n",
    "ax.plot(x_dato, y_dato, 'o')\n",
    "plt.show()"
   ]
  },
  {
   "cell_type": "markdown",
   "id": "718489dea09289c9",
   "metadata": {},
   "source": [
    "Además, se aprecia como el coeficiente de correlación aumenta siguiendo el comportamiento de los datos ya relacionados y la línea de tendencia se aproxima mejor al valor predicho."
   ]
  },
  {
   "cell_type": "markdown",
   "id": "e939a499f8dacf27",
   "metadata": {},
   "source": [
    "### E. usando el método de sumas de Riemann, calcular los ingresos anuales acumulados por concepto de ventas."
   ]
  },
  {
   "cell_type": "code",
   "execution_count": null,
   "id": "c75b88a4301082ac",
   "metadata": {
    "ExecuteTime": {
     "end_time": "2025-05-26T23:40:45.688403Z",
     "start_time": "2025-05-26T23:40:45.685216Z"
    }
   },
   "outputs": [
    {
     "name": "stdout",
     "output_type": "stream",
     "text": [
      "Ext izq                        medio                          ext der                       \n",
      "255.4818181818181              263.09090909090907             270.7                         \n"
     ]
    }
   ],
   "source": [
    "def f(x):\n",
    "    return a0 + a1 * x\n",
    "\n",
    "n_rec = 12\n",
    "a=0\n",
    "b=12\n",
    "delta_x = (b-a)/n_rec\n",
    "x = np.linspace(a,b,n_rec+1)\n",
    "#print(x,delta_x)\n",
    "\n",
    "sum_izq = 0\n",
    "sum_der = 0\n",
    "sum_med = 0\n",
    "for i in range(len(x)-1):\n",
    "    sum_izq += f(x[i]) * delta_x\n",
    "    sum_der += f(x[i+1]) * delta_x\n",
    "    sum_med += f((x[i+1]+x[i])/2) * delta_x\n",
    "\n",
    "print('{:<30} {:<30} {:<30}'. format('Ext izq', 'medio', 'ext der'))\n",
    "print('{:<30} {:<30} {:<30}'. format(sum_izq,sum_med,sum_der))"
   ]
  },
  {
   "cell_type": "markdown",
   "id": "5952f8ce",
   "metadata": {},
   "source": "Se calcula de manera precisa la aproximacion a los ingresos anuales acumulados por el extremo derecho, puesto a que se esta tratando con un intervalo temporal, donde, en el extremo derecho se encontrarian las gananacias al finalizar el último mes, que equivaldría a las ganancias de todo el año."
  },
  {
   "cell_type": "markdown",
   "id": "d4f0c4c6708ac2ff",
   "metadata": {},
   "source": [
    "### F: Usando el método de integración Simpson 1/3, calcular los ingresos anuales acumulados (suavizados). Esto se logra integrando las ventas como función del tiempo."
   ]
  },
  {
   "cell_type": "markdown",
   "id": "7a415cf046a9e443",
   "metadata": {},
   "source": [
    "Para calcular los ingresos anuales acumulados (suvavizados) utilizando el método de simpson 1/3, se toma como función a integrar la función de estimación de ventas dada por el método de mínimos cuadrados trabajada con anterioridad."
   ]
  },
  {
   "cell_type": "code",
   "execution_count": null,
   "id": "84f04c95a9bf98bd",
   "metadata": {
    "ExecuteTime": {
     "end_time": "2025-05-26T23:40:45.712066Z",
     "start_time": "2025-05-26T23:40:45.707250Z"
    }
   },
   "outputs": [
    {
     "name": "stdout",
     "output_type": "stream",
     "text": [
      "Integral = 269.01179845795235\n"
     ]
    }
   ],
   "source": [
    "def f(x):\n",
    "    return a0 + a1 * x\n",
    "\n",
    "a = 1\n",
    "b = 13\n",
    "n = 13\n",
    "x = np.linspace(a, b, n+1)\n",
    "suma_par = 0\n",
    "suma_impar = 0\n",
    "\n",
    "for i in range(1,len(x)-1):\n",
    "    if i % 2 == 0:\n",
    "        suma_par +=f(x[i])\n",
    "    else:\n",
    "        suma_impar +=f(x[i])\n",
    "\n",
    "integral = (b-a) * (f(x[0]) + 4*suma_impar + 2*suma_par + f(x[n]))/(3*n)\n",
    "print('Integral =', integral)"
   ]
  },
  {
   "cell_type": "markdown",
   "id": "db45ff6483760a71",
   "metadata": {},
   "source": [
    "\n",
    "Se observa que el resultado obtenido utilizando el metodo de integracion de simpson 1/3 (269) es similar a los ingresos anuales acumulados reales con un valor de  270.71, por lo que se puede concluir que el método realiza una aproximación aceptable a los ingresos anuales acumulados."
   ]
  },
  {
   "cell_type": "markdown",
   "id": "644784024802001d",
   "metadata": {},
   "source": [
    "### G:  Teniendo presente los dos items anteriores ¿coinciden los ingresos por concepto de ventas usando ambos métodos?"
   ]
  },
  {
   "cell_type": "markdown",
   "id": "14f51a41ac53c968",
   "metadata": {},
   "source": [
    "Calculando los ingresos anuales mediante ambos métodos (Suma de Riemman y regla de Simpson 1/3) se puede afirmar que si coinciden, sin embargo, la suma de Riemman fue más precisa en este caso, pues resulto en el valor exacto de los ingresos anuales de 270.71, mientras que usando Simpson 1/3 resulta en una aproximación de 269.011. Por lo que se puede afirmar que ambos métodos son válidos a pesar de tener distinta precisión."
   ]
  },
  {
   "cell_type": "markdown",
   "id": "b45dbf3d2d0f3a4e",
   "metadata": {},
   "source": [
    "## Punto 2"
   ]
  },
  {
   "cell_type": "markdown",
   "id": "8e91204c4bdfa2b4",
   "metadata": {},
   "source": [
    "### A.  La función de interpolación que mejor se ajuste a los datos usando el método de Lagrange"
   ]
  },
  {
   "cell_type": "markdown",
   "id": "a545101907b7982f",
   "metadata": {},
   "source": [
    "Para obtener la relación que existen entre las ventas y los meses se hace uso de la función y = a0+a1*x que fue obtenida mediante el método de mínimos cuadrados trabajado con anterioridad; se hace uso de esta función debido a que los coeficientes a0 y a1 dados por mínimos cuadrados mínimizan el error de la suma entre los valores reales y los valores predichos, lo que proporciona un mejor ajuste."
   ]
  },
  {
   "cell_type": "markdown",
   "id": "a8e3999b6a88d058",
   "metadata": {},
   "source": [
    "### B. Realice la predicción de ingresos debido a las ventas en el mes 13, suponiendo que podemos extrapolar usando la función de Lagrange"
   ]
  },
  {
   "cell_type": "code",
   "execution_count": null,
   "id": "6272c23cdcfb8c45",
   "metadata": {
    "ExecuteTime": {
     "end_time": "2025-05-26T23:40:45.735273Z",
     "start_time": "2025-05-26T23:40:45.730741Z"
    }
   },
   "outputs": [
    {
     "name": "stdout",
     "output_type": "stream",
     "text": [
      "\n",
      "\n",
      "f(x)                 Lagrange             %Error              \n",
      "30.80151515151517    30.80151515151517    0.0                 \n"
     ]
    }
   ],
   "source": [
    "def f(x):\n",
    "    return  a0 + a1 * x\n",
    "\n",
    "def Lag(a,b,n,f,x):\n",
    "    xi = np.linspace(a,b,n+1)\n",
    "    sum = 0\n",
    "    for i in range(n+1):\n",
    "        prod = 1\n",
    "        for j in range(n+1):\n",
    "            if j != i:\n",
    "                prod *= (x-xi[j])/(xi[i] - xi[j])\n",
    "        sum += prod*f(xi[i])\n",
    "    return sum\n",
    "\n",
    "x = 13\n",
    "InterpLag = Lag(1,13,13,f,x)\n",
    "error = abs(InterpLag - f(x))/(f(x))\n",
    "print('\\n')\n",
    "\n",
    "print('{:<20} {:<20} {:<20}'.format('f(x)', 'Lagrange', '%Error'))\n",
    "print('{:<20} {:<20} {:<20}'.format(f(x), InterpLag, error*100))"
   ]
  },
  {
   "cell_type": "markdown",
   "id": "3df5e4250568ed9b",
   "metadata": {},
   "source": [
    "Se realiza la predicción de ventas del mes 13 usando la función de Lagrange, de modo que la función de interpolación a usar es la de las ventas estimadas, como fue explicado en el inciso anterior; Lo que hace la función de lagrange es que construye un polinomio que pasa por los puntos conocidos, y a partir de este punto, se extrapola para estimar el valor en el mes 13."
   ]
  },
  {
   "cell_type": "markdown",
   "id": "dd45bb52fd400e26",
   "metadata": {},
   "source": [
    "### C.  ¿La predicción del ingreso por ventas usando la interpolación de Lagrange difiere en gran medida con aquella predicción usando el método de mínimos cuadrados?"
   ]
  },
  {
   "cell_type": "markdown",
   "id": "d9432cddcb54a8cd",
   "metadata": {},
   "source": "El trabajo realizado nos demuestra que no hay diferencia entre las dos predicciones realizadas mediante interpolación de Lagrange y el método de mínimos cuadrados, pues con ambos métodos la predicción de ventas para el mes 13 es de 30.8. Esto se da debido a que los datos siguen un comportamiento lineal, probado anteriormente por el coeficiente de determinación de 0.97. Por un lado, Lagrange realiza el cálculo construyendo un polinomio pasando por los puntos dados, mientras que el método de mínimos cuadrados ajusta a la recta minimizando el error entre los puntos; a pesar de realizar los cálculos de distintas maneras, el resultado fue el mismo."
  },
  {
   "cell_type": "markdown",
   "id": "bb21ebc9fc727f0d",
   "metadata": {},
   "source": [
    "## Conclusión\n",
    "\n",
    "En el trabajo se aplicaron métodos como la regresión lineal para analizar las ventas mensuales y predecir su comportamiento en el futuro. También se estimaron los ingresos anuales utilizando técnicas de integración como las sumas de Riemann y Simpson 1/3, comparando sus resultados. Además, se uso la interpolación de Lagrange como alternativa para realizar predicciones, lo que permitió contrastar distintos enfoques. En general, el uso combinado de estos métodos facilito una comprensión más completa del comportamiento de las ventas."
   ]
  }
 ],
 "metadata": {
  "kernelspec": {
   "display_name": "Python 3",
   "language": "python",
   "name": "python3"
  },
  "language_info": {
   "codemirror_mode": {
    "name": "ipython",
    "version": 2
   },
   "file_extension": ".py",
   "mimetype": "text/x-python",
   "name": "python",
   "nbconvert_exporter": "python",
   "pygments_lexer": "ipython2",
   "version": "2.7.6"
  }
 },
 "nbformat": 4,
 "nbformat_minor": 5
}
